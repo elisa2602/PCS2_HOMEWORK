{
 "cells": [
  {
   "cell_type": "code",
   "execution_count": 6,
   "metadata": {},
   "outputs": [
    {
     "name": "stdout",
     "output_type": "stream",
     "text": [
      "427\n"
     ]
    }
   ],
   "source": [
    "def hamm(string1, string2):\n",
    "    distance = 0 \n",
    "    assert len(string1) == len(string2)\n",
    "    for i in range(len(string1)):\n",
    "        if string1[i] != string2[i]:\n",
    "            distance += 1\n",
    "    return distance\n",
    "\n",
    "if __name__ == '__main__':\n",
    "    with open(\"C:\\\\Users\\\\Asus\\\\Desktop\\\\bb2\\\\cs2\\\\pcs2_hm\\\\pcs2_hm3\\\\rosalind_hamm.txt\",\"r\") as f:\n",
    "        string1 = f.readline().strip()\n",
    "        string2 = f.readline().strip()\n",
    "    print(hamm(string1,string2))"
   ]
  }
 ],
 "metadata": {
  "kernelspec": {
   "display_name": "Python 3.8.8 ('base')",
   "language": "python",
   "name": "python3"
  },
  "language_info": {
   "codemirror_mode": {
    "name": "ipython",
    "version": 3
   },
   "file_extension": ".py",
   "mimetype": "text/x-python",
   "name": "python",
   "nbconvert_exporter": "python",
   "pygments_lexer": "ipython3",
   "version": "3.8.8"
  },
  "orig_nbformat": 4,
  "vscode": {
   "interpreter": {
    "hash": "52d90d3cc821dd0beedd6e719dbdecc722c226b9d90ed1b663c34e1877f1142e"
   }
  }
 },
 "nbformat": 4,
 "nbformat_minor": 2
}
