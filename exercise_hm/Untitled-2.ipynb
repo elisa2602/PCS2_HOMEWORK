{
 "cells": [
  {
   "cell_type": "code",
   "execution_count": 1,
   "metadata": {},
   "outputs": [
    {
     "name": "stdout",
     "output_type": "stream",
     "text": [
      "-76.263 -72.665 -63.888 -61.238 -59.763 -56.853 -56.497 -56.013 -56.264 -56.966 -57.652 -59.037 -62.235 -68.090 -74.099 -81.345\n"
     ]
    }
   ],
   "source": [
    "import math\n",
    "\n",
    "AT = 0\n",
    "GC = 0\n",
    "\n",
    "with open('rosalind_prob.txt', 'r') as f:\n",
    "    for line in f:\n",
    "        if line[0] != 'A' and line[0] != 'T' and line[0] != 'G' and line[0] != 'C':\n",
    "            numbers = line.split()\n",
    "            GC_contents = [float(x) for x in numbers]\n",
    "        for i in line:\n",
    "            if i == 'A' or i == 'T':\n",
    "                AT += 1\n",
    "            elif i == 'G' or i == 'C':\n",
    "                GC += 1\n",
    "\n",
    "probabilities = []\n",
    "for j in range(len(GC_contents)):\n",
    "    prob = math.log10((((1 - GC_contents[j]) / 2)**AT) * (GC_contents[j] / 2)**GC)\n",
    "    probabilities.append('%0.3f' % prob)\n",
    "print(*probabilities, sep=' ')"
   ]
  }
 ],
 "metadata": {
  "kernelspec": {
   "display_name": "Python 3.8.8 ('base')",
   "language": "python",
   "name": "python3"
  },
  "language_info": {
   "codemirror_mode": {
    "name": "ipython",
    "version": 3
   },
   "file_extension": ".py",
   "mimetype": "text/x-python",
   "name": "python",
   "nbconvert_exporter": "python",
   "pygments_lexer": "ipython3",
   "version": "3.8.8"
  },
  "orig_nbformat": 4,
  "vscode": {
   "interpreter": {
    "hash": "52d90d3cc821dd0beedd6e719dbdecc722c226b9d90ed1b663c34e1877f1142e"
   }
  }
 },
 "nbformat": 4,
 "nbformat_minor": 2
}
