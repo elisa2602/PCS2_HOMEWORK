{
 "cells": [
  {
   "cell_type": "code",
   "execution_count": 4,
   "metadata": {},
   "outputs": [
    {
     "name": "stdout",
     "output_type": "stream",
     "text": [
      "140396.0\n"
     ]
    }
   ],
   "source": [
    "# 1 = AA-AA, 2 = AA-Aa, 3 = AA-aa, 4 = Aa-Aa, 5 = Aa-aa, 6 = aa-aa \n",
    "p_1 = int(input())\n",
    "p_2 = int(input())\n",
    "p_3 = int(input())\n",
    "p_4 = int(input())\n",
    "p_5 = int(input())\n",
    "p_6 = int(input())\n",
    "\n",
    "dom_off_1 = 2\n",
    "dom_off_2 = 2\n",
    "dom_off_3 = 2\n",
    "dom_off_4 = 2*3/4\n",
    "dom_off_5 = 2*1/2\n",
    "dom_off_6 = 0\n",
    "\n",
    "exp_off = p_1*dom_off_1 + p_2*dom_off_2 + p_3*dom_off_3 + p_4*dom_off_4 + p_5*dom_off_5 + p_6*dom_off_6\n",
    "print(exp_off)"
   ]
  }
 ],
 "metadata": {
  "kernelspec": {
   "display_name": "Python 3.8.8 ('base')",
   "language": "python",
   "name": "python3"
  },
  "language_info": {
   "codemirror_mode": {
    "name": "ipython",
    "version": 3
   },
   "file_extension": ".py",
   "mimetype": "text/x-python",
   "name": "python",
   "nbconvert_exporter": "python",
   "pygments_lexer": "ipython3",
   "version": "3.8.8"
  },
  "orig_nbformat": 4,
  "vscode": {
   "interpreter": {
    "hash": "52d90d3cc821dd0beedd6e719dbdecc722c226b9d90ed1b663c34e1877f1142e"
   }
  }
 },
 "nbformat": 4,
 "nbformat_minor": 2
}
